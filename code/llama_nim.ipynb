{
 "cells": [
  {
   "cell_type": "code",
   "execution_count": 6,
   "id": "6183337f-e1d8-4c74-8a1d-63917bf56c99",
   "metadata": {},
   "outputs": [],
   "source": [
    "from openai import OpenAI\n",
    "import os"
   ]
  },
  {
   "cell_type": "code",
   "execution_count": 12,
   "id": "642e0c11-3534-457e-9d0c-cc7732b066c9",
   "metadata": {},
   "outputs": [],
   "source": [
    "client = OpenAI(\n",
    "  base_url = \"https://integrate.api.nvidia.com/v1\",\n",
    "  api_key = os.getenv('NIM_APIKEY')\n",
    "\n",
    ")\n",
    "\n",
    "def prompt_llm(prompt):\n",
    "    completion = client.chat.completions.create(\n",
    "      model=\"meta/llama-3.1-8b-instruct\",\n",
    "      messages=[{\"role\":\"user\",\"content\":prompt}],\n",
    "      temperature=0.2,\n",
    "      top_p=0.7,\n",
    "      max_tokens=1024,\n",
    "      stream=True\n",
    "    )\n",
    "    \n",
    "    for chunk in completion:\n",
    "      if chunk.choices[0].delta.content is not None:\n",
    "        print(chunk.choices[0].delta.content, end=\"\")"
   ]
  },
  {
   "cell_type": "code",
   "execution_count": 13,
   "id": "df9ded65-255c-44e9-8ec5-977ba8f5741f",
   "metadata": {},
   "outputs": [
    {
     "name": "stdout",
     "output_type": "stream",
     "text": [
      "I'm an artificial intelligence model known as Llama. Llama stands for \"Large Language Model Meta AI.\""
     ]
    }
   ],
   "source": [
    "prompt_llm(\"Hey, what's your name?\")"
   ]
  },
  {
   "cell_type": "code",
   "execution_count": null,
   "id": "005550d0-19e3-4ef0-be38-13112ddd146c",
   "metadata": {},
   "outputs": [],
   "source": []
  }
 ],
 "metadata": {
  "kernelspec": {
   "display_name": "Python 3 (ipykernel)",
   "language": "python",
   "name": "python3"
  },
  "language_info": {
   "codemirror_mode": {
    "name": "ipython",
    "version": 3
   },
   "file_extension": ".py",
   "mimetype": "text/x-python",
   "name": "python",
   "nbconvert_exporter": "python",
   "pygments_lexer": "ipython3",
   "version": "3.10.12"
  }
 },
 "nbformat": 4,
 "nbformat_minor": 5
}
